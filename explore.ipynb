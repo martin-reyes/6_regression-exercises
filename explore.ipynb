{
 "cells": [
  {
   "cell_type": "markdown",
   "id": "018e6c6e",
   "metadata": {},
   "source": [
    "1. As with encoded vs. unencoded data, we recommend exploring un-scaled data in your EDA process.\n",
    "\n",
    "2. Make sure to perform a train, validate, test split before and use only your train dataset to explore the relationships between independent variables with other independent variables or independent variables with your target variable.\n"
   ]
  },
  {
   "cell_type": "code",
   "execution_count": null,
   "id": "35c19d16",
   "metadata": {},
   "outputs": [],
   "source": []
  },
  {
   "cell_type": "markdown",
   "id": "2cf82bb9",
   "metadata": {},
   "source": [
    "3. Write a function named `plot_variable_pairs` that accepts a dataframe as input and plots all of the pairwise relationships along with the regression line for each pair."
   ]
  },
  {
   "cell_type": "code",
   "execution_count": null,
   "id": "7ae0839f",
   "metadata": {},
   "outputs": [],
   "source": [
    "def plot_variable_pairs(df):\n",
    "    return 0"
   ]
  },
  {
   "cell_type": "markdown",
   "id": "d8c1693c",
   "metadata": {},
   "source": [
    "4. Write a function named `plot_categorical_and_continuous_vars` that accepts your dataframe and the name of the columns that hold the continuous and categorical features and outputs 3 different plots for visualizing a categorical variable and a continuous variable."
   ]
  },
  {
   "cell_type": "code",
   "execution_count": null,
   "id": "b3b8a07e",
   "metadata": {},
   "outputs": [],
   "source": [
    "def plot_categorical_and_continuous_vars(df):\n",
    "    return 0"
   ]
  },
  {
   "cell_type": "markdown",
   "id": "6c037d3e",
   "metadata": {},
   "source": [
    "5. Save the functions you have written to create visualizations in your `explore.py` file. Rewrite your notebook code so that you are using the functions imported from this file."
   ]
  },
  {
   "cell_type": "markdown",
   "id": "0a1446e0",
   "metadata": {},
   "source": [
    "6. Use the functions you created above to explore your Zillow train dataset in `explore.ipynb` (this notebook)."
   ]
  },
  {
   "cell_type": "code",
   "execution_count": null,
   "id": "194cbe3a",
   "metadata": {},
   "outputs": [],
   "source": []
  },
  {
   "cell_type": "markdown",
   "id": "e4405439",
   "metadata": {},
   "source": [
    "7. Come up with some initial hypotheses based on your goal of predicting property value."
   ]
  },
  {
   "cell_type": "markdown",
   "id": "5f48b718",
   "metadata": {},
   "source": [
    "8. Visualize all combinations of variables in some way.\n"
   ]
  },
  {
   "cell_type": "code",
   "execution_count": null,
   "id": "4f852210",
   "metadata": {},
   "outputs": [],
   "source": []
  },
  {
   "cell_type": "markdown",
   "id": "0abf0ecb",
   "metadata": {},
   "source": [
    "9. Run the appropriate statistical tests where needed."
   ]
  },
  {
   "cell_type": "code",
   "execution_count": null,
   "id": "4f2eb20c",
   "metadata": {},
   "outputs": [],
   "source": []
  },
  {
   "cell_type": "markdown",
   "id": "0698bd11",
   "metadata": {},
   "source": [
    "10. What independent variables are correlated with the dependent variable, home value?"
   ]
  },
  {
   "cell_type": "code",
   "execution_count": null,
   "id": "1063cf5a",
   "metadata": {},
   "outputs": [],
   "source": []
  },
  {
   "cell_type": "markdown",
   "id": "66cb6555",
   "metadata": {},
   "source": [
    "11. Which independent variables are correlated with other independent variables (bedrooms, bathrooms, year built, square feet)?"
   ]
  },
  {
   "cell_type": "code",
   "execution_count": null,
   "id": "f2f09fce",
   "metadata": {},
   "outputs": [],
   "source": []
  },
  {
   "cell_type": "markdown",
   "id": "6f75d144",
   "metadata": {},
   "source": [
    "12. Document takeaways from the visualizations and statistical tests as well as the decisions made throughout the process."
   ]
  },
  {
   "cell_type": "code",
   "execution_count": null,
   "id": "49f76281",
   "metadata": {},
   "outputs": [],
   "source": []
  },
  {
   "cell_type": "markdown",
   "id": "b610474c",
   "metadata": {},
   "source": [
    "13. Explore the dataset with any other visualizations that may be helpful.\n"
   ]
  },
  {
   "cell_type": "code",
   "execution_count": null,
   "id": "a7c6fd24",
   "metadata": {},
   "outputs": [],
   "source": []
  }
 ],
 "metadata": {
  "kernelspec": {
   "display_name": "Python 3 (ipykernel)",
   "language": "python",
   "name": "python3"
  },
  "language_info": {
   "codemirror_mode": {
    "name": "ipython",
    "version": 3
   },
   "file_extension": ".py",
   "mimetype": "text/x-python",
   "name": "python",
   "nbconvert_exporter": "python",
   "pygments_lexer": "ipython3",
   "version": "3.10.9"
  },
  "varInspector": {
   "cols": {
    "lenName": 16,
    "lenType": 16,
    "lenVar": 40
   },
   "kernels_config": {
    "python": {
     "delete_cmd_postfix": "",
     "delete_cmd_prefix": "del ",
     "library": "var_list.py",
     "varRefreshCmd": "print(var_dic_list())"
    },
    "r": {
     "delete_cmd_postfix": ") ",
     "delete_cmd_prefix": "rm(",
     "library": "var_list.r",
     "varRefreshCmd": "cat(var_dic_list()) "
    }
   },
   "types_to_exclude": [
    "module",
    "function",
    "builtin_function_or_method",
    "instance",
    "_Feature"
   ],
   "window_display": false
  }
 },
 "nbformat": 4,
 "nbformat_minor": 5
}
