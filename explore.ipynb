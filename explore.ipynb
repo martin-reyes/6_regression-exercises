{
 "cells": [
  {
   "cell_type": "code",
   "execution_count": null,
   "id": "7ae0839f",
   "metadata": {},
   "outputs": [],
   "source": [
    "def plot_variable_pairs():\n",
    "    return 0"
   ]
  },
  {
   "cell_type": "code",
   "execution_count": null,
   "id": "b3b8a07e",
   "metadata": {},
   "outputs": [],
   "source": [
    "def plot_categorical_and_continuous_vars():\n",
    "    return 0"
   ]
  }
 ],
 "metadata": {
  "kernelspec": {
   "display_name": "Python 3 (ipykernel)",
   "language": "python",
   "name": "python3"
  },
  "language_info": {
   "codemirror_mode": {
    "name": "ipython",
    "version": 3
   },
   "file_extension": ".py",
   "mimetype": "text/x-python",
   "name": "python",
   "nbconvert_exporter": "python",
   "pygments_lexer": "ipython3",
   "version": "3.9.12"
  }
 },
 "nbformat": 4,
 "nbformat_minor": 5
}
