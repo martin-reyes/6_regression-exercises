{
 "cells": [
  {
   "cell_type": "code",
   "execution_count": 3,
   "id": "07df3ed9",
   "metadata": {},
   "outputs": [],
   "source": [
    "import pandas as pd\n",
    "import sys\n",
    "import os\n",
    "\n",
    "home_directory_path = os.path.expanduser('~')\n",
    "sys.path.append(home_directory_path +'/utils')\n",
    "from acquire_utils import get_connection\n",
    "from prepare_utils import identify_cols_with_white_space"
   ]
  },
  {
   "cell_type": "markdown",
   "id": "ac65b6cc",
   "metadata": {},
   "source": [
    "1. Acquire `bedroomcnt`, `bathroomcnt`, `calculatedfinishedsquarefeet`, `taxvaluedollarcnt`, `yearbuilt`, `taxamount`, and `fips` from the `zillow` database for all 'Single Family Residential' properties.\n",
    "\n",
    "- In MySQL, I can see 'Single Family Residential' properties are where `zillow.properties_2017.propertylandusetypeid =  261`"
   ]
  },
  {
   "cell_type": "code",
   "execution_count": 4,
   "id": "d7244946",
   "metadata": {},
   "outputs": [],
   "source": [
    "df = pd.read_sql('''SELECT bedroomcnt, bathroomcnt, calculatedfinishedsquarefeet,\n",
    "                            taxvaluedollarcnt, yearbuilt, taxamount, fips \n",
    "                    FROM properties_2017 as p\n",
    "                    WHERE p.propertylandusetypeid = 261;''',\n",
    "                   get_connection('zillow'))"
   ]
  },
  {
   "cell_type": "code",
   "execution_count": 5,
   "id": "55f6770d",
   "metadata": {
    "scrolled": true
   },
   "outputs": [
    {
     "name": "stdout",
     "output_type": "stream",
     "text": [
      "<class 'pandas.core.frame.DataFrame'>\n",
      "RangeIndex: 2152863 entries, 0 to 2152862\n",
      "Data columns (total 7 columns):\n",
      " #   Column                        Dtype  \n",
      "---  ------                        -----  \n",
      " 0   bedroomcnt                    float64\n",
      " 1   bathroomcnt                   float64\n",
      " 2   calculatedfinishedsquarefeet  float64\n",
      " 3   taxvaluedollarcnt             float64\n",
      " 4   yearbuilt                     float64\n",
      " 5   taxamount                     float64\n",
      " 6   fips                          float64\n",
      "dtypes: float64(7)\n",
      "memory usage: 115.0 MB\n"
     ]
    },
    {
     "data": {
      "text/plain": [
       "None"
      ]
     },
     "metadata": {},
     "output_type": "display_data"
    },
    {
     "data": {
      "text/html": [
       "<div>\n",
       "<style scoped>\n",
       "    .dataframe tbody tr th:only-of-type {\n",
       "        vertical-align: middle;\n",
       "    }\n",
       "\n",
       "    .dataframe tbody tr th {\n",
       "        vertical-align: top;\n",
       "    }\n",
       "\n",
       "    .dataframe thead th {\n",
       "        text-align: right;\n",
       "    }\n",
       "</style>\n",
       "<table border=\"1\" class=\"dataframe\">\n",
       "  <thead>\n",
       "    <tr style=\"text-align: right;\">\n",
       "      <th></th>\n",
       "      <th>bedroomcnt</th>\n",
       "      <th>bathroomcnt</th>\n",
       "      <th>calculatedfinishedsquarefeet</th>\n",
       "      <th>taxvaluedollarcnt</th>\n",
       "      <th>yearbuilt</th>\n",
       "      <th>taxamount</th>\n",
       "      <th>fips</th>\n",
       "    </tr>\n",
       "  </thead>\n",
       "  <tbody>\n",
       "    <tr>\n",
       "      <th>0</th>\n",
       "      <td>0.0</td>\n",
       "      <td>0.0</td>\n",
       "      <td>NaN</td>\n",
       "      <td>27516.0</td>\n",
       "      <td>NaN</td>\n",
       "      <td>NaN</td>\n",
       "      <td>6037.0</td>\n",
       "    </tr>\n",
       "    <tr>\n",
       "      <th>1</th>\n",
       "      <td>0.0</td>\n",
       "      <td>0.0</td>\n",
       "      <td>NaN</td>\n",
       "      <td>10.0</td>\n",
       "      <td>NaN</td>\n",
       "      <td>NaN</td>\n",
       "      <td>6037.0</td>\n",
       "    </tr>\n",
       "    <tr>\n",
       "      <th>2</th>\n",
       "      <td>0.0</td>\n",
       "      <td>0.0</td>\n",
       "      <td>NaN</td>\n",
       "      <td>10.0</td>\n",
       "      <td>NaN</td>\n",
       "      <td>NaN</td>\n",
       "      <td>6037.0</td>\n",
       "    </tr>\n",
       "    <tr>\n",
       "      <th>3</th>\n",
       "      <td>0.0</td>\n",
       "      <td>0.0</td>\n",
       "      <td>NaN</td>\n",
       "      <td>2108.0</td>\n",
       "      <td>NaN</td>\n",
       "      <td>174.21</td>\n",
       "      <td>6037.0</td>\n",
       "    </tr>\n",
       "    <tr>\n",
       "      <th>4</th>\n",
       "      <td>4.0</td>\n",
       "      <td>2.0</td>\n",
       "      <td>3633.0</td>\n",
       "      <td>296425.0</td>\n",
       "      <td>2005.0</td>\n",
       "      <td>6941.39</td>\n",
       "      <td>6037.0</td>\n",
       "    </tr>\n",
       "  </tbody>\n",
       "</table>\n",
       "</div>"
      ],
      "text/plain": [
       "   bedroomcnt  bathroomcnt  calculatedfinishedsquarefeet  taxvaluedollarcnt  \\\n",
       "0         0.0          0.0                           NaN            27516.0   \n",
       "1         0.0          0.0                           NaN               10.0   \n",
       "2         0.0          0.0                           NaN               10.0   \n",
       "3         0.0          0.0                           NaN             2108.0   \n",
       "4         4.0          2.0                        3633.0           296425.0   \n",
       "\n",
       "   yearbuilt  taxamount    fips  \n",
       "0        NaN        NaN  6037.0  \n",
       "1        NaN        NaN  6037.0  \n",
       "2        NaN        NaN  6037.0  \n",
       "3        NaN     174.21  6037.0  \n",
       "4     2005.0    6941.39  6037.0  "
      ]
     },
     "execution_count": 5,
     "metadata": {},
     "output_type": "execute_result"
    }
   ],
   "source": [
    "display(df.info())\n",
    "df.head()"
   ]
  },
  {
   "cell_type": "markdown",
   "id": "8f6d993f",
   "metadata": {},
   "source": [
    "First I want to **rename the columns:**"
   ]
  },
  {
   "cell_type": "code",
   "execution_count": 6,
   "id": "d36a4f69",
   "metadata": {},
   "outputs": [],
   "source": [
    "df.columns = ['bedrooms', 'bathrooms', 'sqft', 'property_value',\n",
    "              'year_built', 'property_tax', 'county']"
   ]
  },
  {
   "cell_type": "markdown",
   "id": "3f506341",
   "metadata": {},
   "source": [
    "I want to inspect values and their counts and note any oddities and insights (not EDA)"
   ]
  },
  {
   "cell_type": "code",
   "execution_count": 7,
   "id": "9d5e30cf",
   "metadata": {},
   "outputs": [
    {
     "data": {
      "text/plain": [
       "3.0     964298\n",
       "4.0     634289\n",
       "2.0     335473\n",
       "5.0     150866\n",
       "6.0      25166\n",
       "1.0      23166\n",
       "0.0      13187\n",
       "7.0       4807\n",
       "8.0       1107\n",
       "9.0        291\n",
       "10.0       121\n",
       "11.0        34\n",
       "13.0        16\n",
       "12.0        12\n",
       "14.0         7\n",
       "15.0         6\n",
       "18.0         3\n",
       "16.0         2\n",
       "25.0         1\n",
       "Name: bedrooms, dtype: int64"
      ]
     },
     "metadata": {},
     "output_type": "display_data"
    },
    {
     "name": "stdout",
     "output_type": "stream",
     "text": [
      "-----------------------------------\n"
     ]
    },
    {
     "data": {
      "text/plain": [
       "2.00     943589\n",
       "3.00     422841\n",
       "1.00     414324\n",
       "2.50     142981\n",
       "4.00      82155\n",
       "1.50      31211\n",
       "3.50      28518\n",
       "5.00      28362\n",
       "4.50      19506\n",
       "0.00      13027\n",
       "6.00      10747\n",
       "5.50       6217\n",
       "7.00       4394\n",
       "8.00       1692\n",
       "6.50       1333\n",
       "9.00        713\n",
       "7.50        384\n",
       "10.00       325\n",
       "11.00       146\n",
       "8.50        110\n",
       "12.00        73\n",
       "9.50         50\n",
       "13.00        39\n",
       "14.00        25\n",
       "15.00        17\n",
       "0.50         16\n",
       "10.50        14\n",
       "16.00        12\n",
       "18.00         8\n",
       "20.00         6\n",
       "17.00         4\n",
       "1.75          3\n",
       "12.50         3\n",
       "11.50         3\n",
       "19.50         1\n",
       "14.50         1\n",
       "32.00         1\n",
       "19.00         1\n",
       "Name: bathrooms, dtype: int64"
      ]
     },
     "metadata": {},
     "output_type": "display_data"
    },
    {
     "name": "stdout",
     "output_type": "stream",
     "text": [
      "-----------------------------------\n"
     ]
    },
    {
     "data": {
      "text/plain": [
       "1200.0     5195\n",
       "1080.0     4389\n",
       "1120.0     4362\n",
       "1400.0     3833\n",
       "1440.0     3690\n",
       "           ... \n",
       "10613.0       1\n",
       "9360.0        1\n",
       "10238.0       1\n",
       "13748.0       1\n",
       "24920.0       1\n",
       "Name: sqft, Length: 10580, dtype: int64"
      ]
     },
     "metadata": {},
     "output_type": "display_data"
    },
    {
     "name": "stdout",
     "output_type": "stream",
     "text": [
      "-----------------------------------\n"
     ]
    },
    {
     "data": {
      "text/plain": [
       "450000.0     821\n",
       "500000.0     779\n",
       "400000.0     729\n",
       "430000.0     690\n",
       "440000.0     685\n",
       "            ... \n",
       "3713490.0      1\n",
       "1314828.0      1\n",
       "1166747.0      1\n",
       "1289528.0      1\n",
       "536061.0       1\n",
       "Name: property_value, Length: 592269, dtype: int64"
      ]
     },
     "metadata": {},
     "output_type": "display_data"
    },
    {
     "name": "stdout",
     "output_type": "stream",
     "text": [
      "-----------------------------------\n"
     ]
    },
    {
     "data": {
      "text/plain": [
       "1955.0    84405\n",
       "1950.0    71693\n",
       "1954.0    69163\n",
       "1953.0    62342\n",
       "1956.0    61942\n",
       "          ...  \n",
       "1823.0        1\n",
       "1855.0        1\n",
       "1879.0        1\n",
       "1840.0        1\n",
       "1874.0        1\n",
       "Name: year_built, Length: 153, dtype: int64"
      ]
     },
     "metadata": {},
     "output_type": "display_data"
    },
    {
     "name": "stdout",
     "output_type": "stream",
     "text": [
      "-----------------------------------\n"
     ]
    },
    {
     "data": {
      "text/plain": [
       "345.72      172\n",
       "344.18       77\n",
       "343.52       75\n",
       "285.30       67\n",
       "49.18        46\n",
       "           ... \n",
       "10115.62      1\n",
       "4200.22       1\n",
       "5609.30       1\n",
       "4037.26       1\n",
       "13494.52      1\n",
       "Name: property_tax, Length: 918838, dtype: int64"
      ]
     },
     "metadata": {},
     "output_type": "display_data"
    },
    {
     "name": "stdout",
     "output_type": "stream",
     "text": [
      "-----------------------------------\n"
     ]
    },
    {
     "data": {
      "text/plain": [
       "6037.0    1431811\n",
       "6059.0     555077\n",
       "6111.0     165975\n",
       "Name: county, dtype: int64"
      ]
     },
     "metadata": {},
     "output_type": "display_data"
    },
    {
     "name": "stdout",
     "output_type": "stream",
     "text": [
      "-----------------------------------\n"
     ]
    }
   ],
   "source": [
    "for col in df.columns:\n",
    "    display(df[col].value_counts())\n",
    "    print('-'*35)"
   ]
  },
  {
   "cell_type": "markdown",
   "id": "f37a85b1",
   "metadata": {},
   "source": [
    "NOTES:\n",
    "\n",
    "- 3 FIPS (county) codes: 6037 (LA), 6059 (Orange), 6111 (Ventura)\n",
    "- Weird bedroom values (with counts): 0 (13187), >6 (6407)\n",
    "    - MVP approach: use values between 1 and 6 (inclusive)\n",
    "- Weird bathroom values (with counts): 0 (13027), 0.5 (16), 1.75 (3), >5 (26319)\n",
    "    - MVP approach: use values between 1 and 6 (inclusive), exluding the 3 with 1.75"
   ]
  },
  {
   "cell_type": "markdown",
   "id": "018598c0",
   "metadata": {},
   "source": [
    "Looking for odd year values (not min, max, average, etc.): None, other than some early 1800's outliers. Will keep for now"
   ]
  },
  {
   "cell_type": "code",
   "execution_count": 8,
   "id": "75bb0527",
   "metadata": {},
   "outputs": [
    {
     "data": {
      "text/plain": [
       "[nan,\n",
       " 1801.0,\n",
       " 1807.0,\n",
       " 1812.0,\n",
       " 1823.0,\n",
       " 1833.0,\n",
       " 1840.0,\n",
       " 1855.0,\n",
       " 1862.0,\n",
       " 1865.0,\n",
       " 1870.0,\n",
       " 1874.0,\n",
       " 1875.0,\n",
       " 1876.0,\n",
       " 1877.0,\n",
       " 1878.0,\n",
       " 1879.0,\n",
       " 1880.0,\n",
       " 1881.0,\n",
       " 1882.0,\n",
       " 1883.0,\n",
       " 1884.0,\n",
       " 1885.0,\n",
       " 1886.0,\n",
       " 1887.0,\n",
       " 1888.0,\n",
       " 1889.0,\n",
       " 1890.0,\n",
       " 1891.0,\n",
       " 1892.0,\n",
       " 1893.0,\n",
       " 1894.0,\n",
       " 1895.0,\n",
       " 1896.0,\n",
       " 1897.0,\n",
       " 1898.0,\n",
       " 1899.0,\n",
       " 1900.0,\n",
       " 1901.0,\n",
       " 1902.0,\n",
       " 1903.0,\n",
       " 1904.0,\n",
       " 1905.0,\n",
       " 1906.0,\n",
       " 1907.0,\n",
       " 1908.0,\n",
       " 1909.0,\n",
       " 1910.0,\n",
       " 1911.0,\n",
       " 1912.0,\n",
       " 1913.0,\n",
       " 1914.0,\n",
       " 1915.0,\n",
       " 1916.0,\n",
       " 1917.0,\n",
       " 1918.0,\n",
       " 1919.0,\n",
       " 1920.0,\n",
       " 1921.0,\n",
       " 1922.0,\n",
       " 1923.0,\n",
       " 1924.0,\n",
       " 1925.0,\n",
       " 1926.0,\n",
       " 1927.0,\n",
       " 1928.0,\n",
       " 1929.0,\n",
       " 1930.0,\n",
       " 1931.0,\n",
       " 1932.0,\n",
       " 1933.0,\n",
       " 1934.0,\n",
       " 1935.0,\n",
       " 1936.0,\n",
       " 1937.0,\n",
       " 1938.0,\n",
       " 1939.0,\n",
       " 1940.0,\n",
       " 1941.0,\n",
       " 1942.0,\n",
       " 1943.0,\n",
       " 1944.0,\n",
       " 1945.0,\n",
       " 1946.0,\n",
       " 1947.0,\n",
       " 1948.0,\n",
       " 1949.0,\n",
       " 1950.0,\n",
       " 1951.0,\n",
       " 1952.0,\n",
       " 1953.0,\n",
       " 1954.0,\n",
       " 1955.0,\n",
       " 1956.0,\n",
       " 1957.0,\n",
       " 1958.0,\n",
       " 1959.0,\n",
       " 1960.0,\n",
       " 1961.0,\n",
       " 1962.0,\n",
       " 1963.0,\n",
       " 1964.0,\n",
       " 1965.0,\n",
       " 1966.0,\n",
       " 1967.0,\n",
       " 1968.0,\n",
       " 1969.0,\n",
       " 1970.0,\n",
       " 1971.0,\n",
       " 1972.0,\n",
       " 1973.0,\n",
       " 1974.0,\n",
       " 1975.0,\n",
       " 1976.0,\n",
       " 1977.0,\n",
       " 1978.0,\n",
       " 1979.0,\n",
       " 1980.0,\n",
       " 1981.0,\n",
       " 1982.0,\n",
       " 1983.0,\n",
       " 1984.0,\n",
       " 1985.0,\n",
       " 1986.0,\n",
       " 1987.0,\n",
       " 1988.0,\n",
       " 1989.0,\n",
       " 1990.0,\n",
       " 1991.0,\n",
       " 1992.0,\n",
       " 1993.0,\n",
       " 1994.0,\n",
       " 1995.0,\n",
       " 1996.0,\n",
       " 1997.0,\n",
       " 1998.0,\n",
       " 1999.0,\n",
       " 2000.0,\n",
       " 2001.0,\n",
       " 2002.0,\n",
       " 2003.0,\n",
       " 2004.0,\n",
       " 2005.0,\n",
       " 2006.0,\n",
       " 2007.0,\n",
       " 2008.0,\n",
       " 2009.0,\n",
       " 2010.0,\n",
       " 2011.0,\n",
       " 2012.0,\n",
       " 2013.0,\n",
       " 2014.0,\n",
       " 2015.0,\n",
       " 2016.0]"
      ]
     },
     "execution_count": 8,
     "metadata": {},
     "output_type": "execute_result"
    }
   ],
   "source": [
    "sorted(df['year_built'].unique())"
   ]
  },
  {
   "cell_type": "markdown",
   "id": "755eea18",
   "metadata": {},
   "source": [
    "**Filtering homes with 1-6 bathrooms and 1-6 bedrooms** (MVP approaches stated above)"
   ]
  },
  {
   "cell_type": "code",
   "execution_count": 9,
   "id": "907050de",
   "metadata": {},
   "outputs": [
    {
     "data": {
      "text/html": [
       "<div>\n",
       "<style scoped>\n",
       "    .dataframe tbody tr th:only-of-type {\n",
       "        vertical-align: middle;\n",
       "    }\n",
       "\n",
       "    .dataframe tbody tr th {\n",
       "        vertical-align: top;\n",
       "    }\n",
       "\n",
       "    .dataframe thead th {\n",
       "        text-align: right;\n",
       "    }\n",
       "</style>\n",
       "<table border=\"1\" class=\"dataframe\">\n",
       "  <thead>\n",
       "    <tr style=\"text-align: right;\">\n",
       "      <th></th>\n",
       "      <th>bedrooms</th>\n",
       "      <th>bathrooms</th>\n",
       "      <th>sqft</th>\n",
       "      <th>property_value</th>\n",
       "      <th>year_built</th>\n",
       "      <th>property_tax</th>\n",
       "      <th>county</th>\n",
       "    </tr>\n",
       "  </thead>\n",
       "  <tbody>\n",
       "    <tr>\n",
       "      <th>4</th>\n",
       "      <td>4.0</td>\n",
       "      <td>2.0</td>\n",
       "      <td>3633.0</td>\n",
       "      <td>296425.0</td>\n",
       "      <td>2005.0</td>\n",
       "      <td>6941.39</td>\n",
       "      <td>6037.0</td>\n",
       "    </tr>\n",
       "    <tr>\n",
       "      <th>6</th>\n",
       "      <td>3.0</td>\n",
       "      <td>4.0</td>\n",
       "      <td>1620.0</td>\n",
       "      <td>847770.0</td>\n",
       "      <td>2011.0</td>\n",
       "      <td>10244.94</td>\n",
       "      <td>6037.0</td>\n",
       "    </tr>\n",
       "    <tr>\n",
       "      <th>7</th>\n",
       "      <td>3.0</td>\n",
       "      <td>2.0</td>\n",
       "      <td>2077.0</td>\n",
       "      <td>646760.0</td>\n",
       "      <td>1926.0</td>\n",
       "      <td>7924.68</td>\n",
       "      <td>6037.0</td>\n",
       "    </tr>\n",
       "    <tr>\n",
       "      <th>18</th>\n",
       "      <td>3.0</td>\n",
       "      <td>1.0</td>\n",
       "      <td>1244.0</td>\n",
       "      <td>169471.0</td>\n",
       "      <td>1950.0</td>\n",
       "      <td>2532.88</td>\n",
       "      <td>6037.0</td>\n",
       "    </tr>\n",
       "    <tr>\n",
       "      <th>19</th>\n",
       "      <td>3.0</td>\n",
       "      <td>2.0</td>\n",
       "      <td>1300.0</td>\n",
       "      <td>233266.0</td>\n",
       "      <td>1950.0</td>\n",
       "      <td>3110.99</td>\n",
       "      <td>6037.0</td>\n",
       "    </tr>\n",
       "    <tr>\n",
       "      <th>...</th>\n",
       "      <td>...</td>\n",
       "      <td>...</td>\n",
       "      <td>...</td>\n",
       "      <td>...</td>\n",
       "      <td>...</td>\n",
       "      <td>...</td>\n",
       "      <td>...</td>\n",
       "    </tr>\n",
       "    <tr>\n",
       "      <th>2152856</th>\n",
       "      <td>4.0</td>\n",
       "      <td>4.0</td>\n",
       "      <td>4375.0</td>\n",
       "      <td>422400.0</td>\n",
       "      <td>2015.0</td>\n",
       "      <td>13877.56</td>\n",
       "      <td>6037.0</td>\n",
       "    </tr>\n",
       "    <tr>\n",
       "      <th>2152858</th>\n",
       "      <td>4.0</td>\n",
       "      <td>3.0</td>\n",
       "      <td>2262.0</td>\n",
       "      <td>960756.0</td>\n",
       "      <td>2015.0</td>\n",
       "      <td>13494.52</td>\n",
       "      <td>6059.0</td>\n",
       "    </tr>\n",
       "    <tr>\n",
       "      <th>2152859</th>\n",
       "      <td>4.0</td>\n",
       "      <td>4.5</td>\n",
       "      <td>3127.0</td>\n",
       "      <td>536061.0</td>\n",
       "      <td>2014.0</td>\n",
       "      <td>6244.16</td>\n",
       "      <td>6059.0</td>\n",
       "    </tr>\n",
       "    <tr>\n",
       "      <th>2152861</th>\n",
       "      <td>3.0</td>\n",
       "      <td>2.5</td>\n",
       "      <td>1974.0</td>\n",
       "      <td>424353.0</td>\n",
       "      <td>2015.0</td>\n",
       "      <td>5302.70</td>\n",
       "      <td>6059.0</td>\n",
       "    </tr>\n",
       "    <tr>\n",
       "      <th>2152862</th>\n",
       "      <td>4.0</td>\n",
       "      <td>4.0</td>\n",
       "      <td>2110.0</td>\n",
       "      <td>554009.0</td>\n",
       "      <td>2014.0</td>\n",
       "      <td>6761.20</td>\n",
       "      <td>6037.0</td>\n",
       "    </tr>\n",
       "  </tbody>\n",
       "</table>\n",
       "<p>2125041 rows × 7 columns</p>\n",
       "</div>"
      ],
      "text/plain": [
       "         bedrooms  bathrooms    sqft  property_value  year_built  \\\n",
       "4             4.0        2.0  3633.0        296425.0      2005.0   \n",
       "6             3.0        4.0  1620.0        847770.0      2011.0   \n",
       "7             3.0        2.0  2077.0        646760.0      1926.0   \n",
       "18            3.0        1.0  1244.0        169471.0      1950.0   \n",
       "19            3.0        2.0  1300.0        233266.0      1950.0   \n",
       "...           ...        ...     ...             ...         ...   \n",
       "2152856       4.0        4.0  4375.0        422400.0      2015.0   \n",
       "2152858       4.0        3.0  2262.0        960756.0      2015.0   \n",
       "2152859       4.0        4.5  3127.0        536061.0      2014.0   \n",
       "2152861       3.0        2.5  1974.0        424353.0      2015.0   \n",
       "2152862       4.0        4.0  2110.0        554009.0      2014.0   \n",
       "\n",
       "         property_tax  county  \n",
       "4             6941.39  6037.0  \n",
       "6            10244.94  6037.0  \n",
       "7             7924.68  6037.0  \n",
       "18            2532.88  6037.0  \n",
       "19            3110.99  6037.0  \n",
       "...               ...     ...  \n",
       "2152856      13877.56  6037.0  \n",
       "2152858      13494.52  6059.0  \n",
       "2152859       6244.16  6059.0  \n",
       "2152861       5302.70  6059.0  \n",
       "2152862       6761.20  6037.0  \n",
       "\n",
       "[2125041 rows x 7 columns]"
      ]
     },
     "execution_count": 9,
     "metadata": {},
     "output_type": "execute_result"
    }
   ],
   "source": [
    "# 1 to 6 bedrooms\n",
    "df = df[(df['bedrooms'] >= 1) & (df['bedrooms'] <= 6)]\n",
    "# 1 to 6 bathrooms, not including 1.75\n",
    "df = df[(df['bathrooms'] >= 1) & (df['bathrooms'] <= 6) \n",
    "        & (df['bathrooms'] != 1.75)]\n",
    "df"
   ]
  },
  {
   "cell_type": "markdown",
   "id": "72e94854",
   "metadata": {},
   "source": [
    "2. Using your acquired Zillow data, walk through the summarization and cleaning steps in your wrangle.ipynb file like we did above. You may handle the missing values however you feel is appropriate and meaningful; remember to document your process and decisions using markdown and code commenting where helpful."
   ]
  },
  {
   "cell_type": "markdown",
   "id": "4cc279c5",
   "metadata": {},
   "source": [
    "**Inspect and Handle Missing Values**\n",
    "\n",
    "Implicit: None"
   ]
  },
  {
   "cell_type": "code",
   "execution_count": 10,
   "id": "434db7cc",
   "metadata": {},
   "outputs": [
    {
     "data": {
      "text/plain": [
       "[]"
      ]
     },
     "execution_count": 10,
     "metadata": {},
     "output_type": "execute_result"
    }
   ],
   "source": [
    "identify_cols_with_white_space(df)"
   ]
  },
  {
   "cell_type": "markdown",
   "id": "fb081ed2",
   "metadata": {},
   "source": [
    "Explicit:\n",
    "\n",
    "- `bedrooms` :                        0\n",
    "- `bathrooms` :                       0\n",
    "- `sqft` :                          210\n",
    "- `property_value` :                105 \n",
    "- `year_built` :                   1233     \n",
    "- `property_tax` :                 2453     \n",
    "- `count` :                           0"
   ]
  },
  {
   "cell_type": "code",
   "execution_count": 12,
   "id": "ea409797",
   "metadata": {},
   "outputs": [
    {
     "data": {
      "text/plain": [
       "bedrooms             0\n",
       "bathrooms            0\n",
       "sqft               210\n",
       "property_value     105\n",
       "year_built        1233\n",
       "property_tax      2453\n",
       "county               0\n",
       "dtype: int64"
      ]
     },
     "metadata": {},
     "output_type": "display_data"
    },
    {
     "data": {
      "text/plain": [
       "bedrooms          0.000000\n",
       "bathrooms         0.000000\n",
       "sqft              0.000099\n",
       "property_value    0.000049\n",
       "year_built        0.000580\n",
       "property_tax      0.001154\n",
       "county            0.000000\n",
       "dtype: float64"
      ]
     },
     "metadata": {},
     "output_type": "display_data"
    }
   ],
   "source": [
    "display(df.isnull().sum())\n",
    "display(df.isnull().sum()/(len(df)))"
   ]
  },
  {
   "cell_type": "markdown",
   "id": "3010fe20",
   "metadata": {},
   "source": [
    "Handle:\n",
    "- I will drop rows with missing values in any columns since these rows account for <1% of our data."
   ]
  },
  {
   "cell_type": "code",
   "execution_count": 13,
   "id": "706eb1fe",
   "metadata": {},
   "outputs": [
    {
     "name": "stdout",
     "output_type": "stream",
     "text": [
      "2121279\n"
     ]
    },
    {
     "data": {
      "text/plain": [
       "bedrooms          0\n",
       "bathrooms         0\n",
       "sqft              0\n",
       "property_value    0\n",
       "year_built        0\n",
       "property_tax      0\n",
       "county            0\n",
       "dtype: int64"
      ]
     },
     "execution_count": 13,
     "metadata": {},
     "output_type": "execute_result"
    }
   ],
   "source": [
    "df = df.dropna()\n",
    "print(len(df))\n",
    "df.isnull().sum()"
   ]
  },
  {
   "cell_type": "markdown",
   "id": "2498d0a9",
   "metadata": {},
   "source": [
    "**Inspecting and Handling Duplicates**"
   ]
  },
  {
   "cell_type": "code",
   "execution_count": 14,
   "id": "da54f098",
   "metadata": {},
   "outputs": [
    {
     "data": {
      "text/plain": [
       "9881"
      ]
     },
     "execution_count": 14,
     "metadata": {},
     "output_type": "execute_result"
    }
   ],
   "source": [
    "df.duplicated().sum()"
   ]
  },
  {
   "cell_type": "code",
   "execution_count": 23,
   "id": "e5ccae96",
   "metadata": {},
   "outputs": [
    {
     "data": {
      "text/html": [
       "<div>\n",
       "<style scoped>\n",
       "    .dataframe tbody tr th:only-of-type {\n",
       "        vertical-align: middle;\n",
       "    }\n",
       "\n",
       "    .dataframe tbody tr th {\n",
       "        vertical-align: top;\n",
       "    }\n",
       "\n",
       "    .dataframe thead th {\n",
       "        text-align: right;\n",
       "    }\n",
       "</style>\n",
       "<table border=\"1\" class=\"dataframe\">\n",
       "  <thead>\n",
       "    <tr style=\"text-align: right;\">\n",
       "      <th></th>\n",
       "      <th>bedrooms</th>\n",
       "      <th>bathrooms</th>\n",
       "      <th>sqft</th>\n",
       "      <th>property_value</th>\n",
       "      <th>year_built</th>\n",
       "      <th>property_tax</th>\n",
       "      <th>county</th>\n",
       "    </tr>\n",
       "  </thead>\n",
       "  <tbody>\n",
       "    <tr>\n",
       "      <th>25549</th>\n",
       "      <td>1.0</td>\n",
       "      <td>1.0</td>\n",
       "      <td>364.0</td>\n",
       "      <td>475330.0</td>\n",
       "      <td>1914.0</td>\n",
       "      <td>3548.13</td>\n",
       "      <td>6037.0</td>\n",
       "    </tr>\n",
       "    <tr>\n",
       "      <th>1769689</th>\n",
       "      <td>1.0</td>\n",
       "      <td>1.0</td>\n",
       "      <td>364.0</td>\n",
       "      <td>475330.0</td>\n",
       "      <td>1914.0</td>\n",
       "      <td>3548.13</td>\n",
       "      <td>6037.0</td>\n",
       "    </tr>\n",
       "    <tr>\n",
       "      <th>920849</th>\n",
       "      <td>1.0</td>\n",
       "      <td>1.0</td>\n",
       "      <td>432.0</td>\n",
       "      <td>40474.0</td>\n",
       "      <td>1924.0</td>\n",
       "      <td>678.31</td>\n",
       "      <td>6037.0</td>\n",
       "    </tr>\n",
       "    <tr>\n",
       "      <th>1329994</th>\n",
       "      <td>1.0</td>\n",
       "      <td>1.0</td>\n",
       "      <td>432.0</td>\n",
       "      <td>40474.0</td>\n",
       "      <td>1924.0</td>\n",
       "      <td>678.31</td>\n",
       "      <td>6037.0</td>\n",
       "    </tr>\n",
       "    <tr>\n",
       "      <th>384641</th>\n",
       "      <td>1.0</td>\n",
       "      <td>1.0</td>\n",
       "      <td>456.0</td>\n",
       "      <td>39227.0</td>\n",
       "      <td>1946.0</td>\n",
       "      <td>772.56</td>\n",
       "      <td>6059.0</td>\n",
       "    </tr>\n",
       "    <tr>\n",
       "      <th>...</th>\n",
       "      <td>...</td>\n",
       "      <td>...</td>\n",
       "      <td>...</td>\n",
       "      <td>...</td>\n",
       "      <td>...</td>\n",
       "      <td>...</td>\n",
       "      <td>...</td>\n",
       "    </tr>\n",
       "    <tr>\n",
       "      <th>301075</th>\n",
       "      <td>6.0</td>\n",
       "      <td>5.5</td>\n",
       "      <td>4041.0</td>\n",
       "      <td>1517730.0</td>\n",
       "      <td>2005.0</td>\n",
       "      <td>21096.20</td>\n",
       "      <td>6059.0</td>\n",
       "    </tr>\n",
       "    <tr>\n",
       "      <th>925717</th>\n",
       "      <td>6.0</td>\n",
       "      <td>5.5</td>\n",
       "      <td>4041.0</td>\n",
       "      <td>1517730.0</td>\n",
       "      <td>2005.0</td>\n",
       "      <td>21096.20</td>\n",
       "      <td>6059.0</td>\n",
       "    </tr>\n",
       "    <tr>\n",
       "      <th>1442469</th>\n",
       "      <td>6.0</td>\n",
       "      <td>5.5</td>\n",
       "      <td>4041.0</td>\n",
       "      <td>1517730.0</td>\n",
       "      <td>2005.0</td>\n",
       "      <td>21096.20</td>\n",
       "      <td>6059.0</td>\n",
       "    </tr>\n",
       "    <tr>\n",
       "      <th>796437</th>\n",
       "      <td>6.0</td>\n",
       "      <td>5.5</td>\n",
       "      <td>4041.0</td>\n",
       "      <td>1587088.0</td>\n",
       "      <td>2005.0</td>\n",
       "      <td>21923.08</td>\n",
       "      <td>6059.0</td>\n",
       "    </tr>\n",
       "    <tr>\n",
       "      <th>1743737</th>\n",
       "      <td>6.0</td>\n",
       "      <td>5.5</td>\n",
       "      <td>4041.0</td>\n",
       "      <td>1587088.0</td>\n",
       "      <td>2005.0</td>\n",
       "      <td>21923.08</td>\n",
       "      <td>6059.0</td>\n",
       "    </tr>\n",
       "  </tbody>\n",
       "</table>\n",
       "<p>17345 rows × 7 columns</p>\n",
       "</div>"
      ],
      "text/plain": [
       "         bedrooms  bathrooms    sqft  property_value  year_built  \\\n",
       "25549         1.0        1.0   364.0        475330.0      1914.0   \n",
       "1769689       1.0        1.0   364.0        475330.0      1914.0   \n",
       "920849        1.0        1.0   432.0         40474.0      1924.0   \n",
       "1329994       1.0        1.0   432.0         40474.0      1924.0   \n",
       "384641        1.0        1.0   456.0         39227.0      1946.0   \n",
       "...           ...        ...     ...             ...         ...   \n",
       "301075        6.0        5.5  4041.0       1517730.0      2005.0   \n",
       "925717        6.0        5.5  4041.0       1517730.0      2005.0   \n",
       "1442469       6.0        5.5  4041.0       1517730.0      2005.0   \n",
       "796437        6.0        5.5  4041.0       1587088.0      2005.0   \n",
       "1743737       6.0        5.5  4041.0       1587088.0      2005.0   \n",
       "\n",
       "         property_tax  county  \n",
       "25549         3548.13  6037.0  \n",
       "1769689       3548.13  6037.0  \n",
       "920849         678.31  6037.0  \n",
       "1329994        678.31  6037.0  \n",
       "384641         772.56  6059.0  \n",
       "...               ...     ...  \n",
       "301075       21096.20  6059.0  \n",
       "925717       21096.20  6059.0  \n",
       "1442469      21096.20  6059.0  \n",
       "796437       21923.08  6059.0  \n",
       "1743737      21923.08  6059.0  \n",
       "\n",
       "[17345 rows x 7 columns]"
      ]
     },
     "execution_count": 23,
     "metadata": {},
     "output_type": "execute_result"
    }
   ],
   "source": [
    "df[df.duplicated(keep=False)].sort_values(by=list(df.columns))"
   ]
  },
  {
   "cell_type": "markdown",
   "id": "680ce607",
   "metadata": {},
   "source": [
    "I will drop duplicates (and keep first, default)"
   ]
  },
  {
   "cell_type": "code",
   "execution_count": 24,
   "id": "81e223a8",
   "metadata": {},
   "outputs": [],
   "source": [
    "df = df.drop_duplicates()"
   ]
  },
  {
   "cell_type": "markdown",
   "id": "7b0aa071",
   "metadata": {},
   "source": [
    "**Give appropriate values for each column:**\n",
    "- bedrooms, sqft, property_value, and year_built should be integers\n",
    "- county should be object and encoded for modeling (after exploration)\n",
    "- bathrooms and property_tax will stay floats for now"
   ]
  },
  {
   "cell_type": "code",
   "execution_count": 43,
   "id": "2b1a5738",
   "metadata": {},
   "outputs": [
    {
     "name": "stdout",
     "output_type": "stream",
     "text": [
      "bedrooms: True\n",
      "bathrooms: False\n",
      "sqft: True\n",
      "property_value: True\n",
      "year_built: True\n",
      "property_tax: False\n",
      "county: True\n"
     ]
    }
   ],
   "source": [
    "# seeing which columns have only whole number floats\n",
    "for col in df.columns:\n",
    "    print(col + ': ', end='') \n",
    "    print((df[col] % 1 == 0).all())"
   ]
  },
  {
   "cell_type": "code",
   "execution_count": 47,
   "id": "db4206c0",
   "metadata": {},
   "outputs": [
    {
     "data": {
      "text/html": [
       "<div>\n",
       "<style scoped>\n",
       "    .dataframe tbody tr th:only-of-type {\n",
       "        vertical-align: middle;\n",
       "    }\n",
       "\n",
       "    .dataframe tbody tr th {\n",
       "        vertical-align: top;\n",
       "    }\n",
       "\n",
       "    .dataframe thead th {\n",
       "        text-align: right;\n",
       "    }\n",
       "</style>\n",
       "<table border=\"1\" class=\"dataframe\">\n",
       "  <thead>\n",
       "    <tr style=\"text-align: right;\">\n",
       "      <th></th>\n",
       "      <th>bedrooms</th>\n",
       "      <th>bathrooms</th>\n",
       "      <th>sqft</th>\n",
       "      <th>property_value</th>\n",
       "      <th>year_built</th>\n",
       "      <th>property_tax</th>\n",
       "      <th>county</th>\n",
       "    </tr>\n",
       "  </thead>\n",
       "  <tbody>\n",
       "    <tr>\n",
       "      <th>4</th>\n",
       "      <td>4</td>\n",
       "      <td>2.0</td>\n",
       "      <td>3633</td>\n",
       "      <td>296425</td>\n",
       "      <td>2005</td>\n",
       "      <td>6941.39</td>\n",
       "      <td>LA</td>\n",
       "    </tr>\n",
       "    <tr>\n",
       "      <th>6</th>\n",
       "      <td>3</td>\n",
       "      <td>4.0</td>\n",
       "      <td>1620</td>\n",
       "      <td>847770</td>\n",
       "      <td>2011</td>\n",
       "      <td>10244.94</td>\n",
       "      <td>LA</td>\n",
       "    </tr>\n",
       "    <tr>\n",
       "      <th>7</th>\n",
       "      <td>3</td>\n",
       "      <td>2.0</td>\n",
       "      <td>2077</td>\n",
       "      <td>646760</td>\n",
       "      <td>1926</td>\n",
       "      <td>7924.68</td>\n",
       "      <td>LA</td>\n",
       "    </tr>\n",
       "    <tr>\n",
       "      <th>18</th>\n",
       "      <td>3</td>\n",
       "      <td>1.0</td>\n",
       "      <td>1244</td>\n",
       "      <td>169471</td>\n",
       "      <td>1950</td>\n",
       "      <td>2532.88</td>\n",
       "      <td>LA</td>\n",
       "    </tr>\n",
       "    <tr>\n",
       "      <th>19</th>\n",
       "      <td>3</td>\n",
       "      <td>2.0</td>\n",
       "      <td>1300</td>\n",
       "      <td>233266</td>\n",
       "      <td>1950</td>\n",
       "      <td>3110.99</td>\n",
       "      <td>LA</td>\n",
       "    </tr>\n",
       "    <tr>\n",
       "      <th>...</th>\n",
       "      <td>...</td>\n",
       "      <td>...</td>\n",
       "      <td>...</td>\n",
       "      <td>...</td>\n",
       "      <td>...</td>\n",
       "      <td>...</td>\n",
       "      <td>...</td>\n",
       "    </tr>\n",
       "    <tr>\n",
       "      <th>2152855</th>\n",
       "      <td>3</td>\n",
       "      <td>2.5</td>\n",
       "      <td>1809</td>\n",
       "      <td>405547</td>\n",
       "      <td>2012</td>\n",
       "      <td>4181.10</td>\n",
       "      <td>Orange</td>\n",
       "    </tr>\n",
       "    <tr>\n",
       "      <th>2152856</th>\n",
       "      <td>4</td>\n",
       "      <td>4.0</td>\n",
       "      <td>4375</td>\n",
       "      <td>422400</td>\n",
       "      <td>2015</td>\n",
       "      <td>13877.56</td>\n",
       "      <td>LA</td>\n",
       "    </tr>\n",
       "    <tr>\n",
       "      <th>2152858</th>\n",
       "      <td>4</td>\n",
       "      <td>3.0</td>\n",
       "      <td>2262</td>\n",
       "      <td>960756</td>\n",
       "      <td>2015</td>\n",
       "      <td>13494.52</td>\n",
       "      <td>Orange</td>\n",
       "    </tr>\n",
       "    <tr>\n",
       "      <th>2152859</th>\n",
       "      <td>4</td>\n",
       "      <td>4.5</td>\n",
       "      <td>3127</td>\n",
       "      <td>536061</td>\n",
       "      <td>2014</td>\n",
       "      <td>6244.16</td>\n",
       "      <td>Orange</td>\n",
       "    </tr>\n",
       "    <tr>\n",
       "      <th>2152862</th>\n",
       "      <td>4</td>\n",
       "      <td>4.0</td>\n",
       "      <td>2110</td>\n",
       "      <td>554009</td>\n",
       "      <td>2014</td>\n",
       "      <td>6761.20</td>\n",
       "      <td>LA</td>\n",
       "    </tr>\n",
       "  </tbody>\n",
       "</table>\n",
       "<p>2111398 rows × 7 columns</p>\n",
       "</div>"
      ],
      "text/plain": [
       "         bedrooms  bathrooms  sqft  property_value  year_built  property_tax  \\\n",
       "4               4        2.0  3633          296425        2005       6941.39   \n",
       "6               3        4.0  1620          847770        2011      10244.94   \n",
       "7               3        2.0  2077          646760        1926       7924.68   \n",
       "18              3        1.0  1244          169471        1950       2532.88   \n",
       "19              3        2.0  1300          233266        1950       3110.99   \n",
       "...           ...        ...   ...             ...         ...           ...   \n",
       "2152855         3        2.5  1809          405547        2012       4181.10   \n",
       "2152856         4        4.0  4375          422400        2015      13877.56   \n",
       "2152858         4        3.0  2262          960756        2015      13494.52   \n",
       "2152859         4        4.5  3127          536061        2014       6244.16   \n",
       "2152862         4        4.0  2110          554009        2014       6761.20   \n",
       "\n",
       "         county  \n",
       "4            LA  \n",
       "6            LA  \n",
       "7            LA  \n",
       "18           LA  \n",
       "19           LA  \n",
       "...         ...  \n",
       "2152855  Orange  \n",
       "2152856      LA  \n",
       "2152858  Orange  \n",
       "2152859  Orange  \n",
       "2152862      LA  \n",
       "\n",
       "[2111398 rows x 7 columns]"
      ]
     },
     "execution_count": 47,
     "metadata": {},
     "output_type": "execute_result"
    }
   ],
   "source": [
    "df[['bedrooms', 'sqft', 'property_value', 'year_built']] =\\\n",
    "    df[['bedrooms', 'sqft', 'property_value', 'year_built']].astype(int)\n",
    "df['county'] = df['county'].replace({6037: 'LA', 6059: 'Orange', 6111: 'Ventura'})\n",
    "\n",
    "df"
   ]
  },
  {
   "cell_type": "markdown",
   "id": "b3938940",
   "metadata": {},
   "source": [
    "Check column data types"
   ]
  },
  {
   "cell_type": "code",
   "execution_count": 49,
   "id": "873067af",
   "metadata": {},
   "outputs": [
    {
     "name": "stdout",
     "output_type": "stream",
     "text": [
      "<class 'pandas.core.frame.DataFrame'>\n",
      "Int64Index: 2111398 entries, 4 to 2152862\n",
      "Data columns (total 7 columns):\n",
      " #   Column          Dtype  \n",
      "---  ------          -----  \n",
      " 0   bedrooms        int64  \n",
      " 1   bathrooms       float64\n",
      " 2   sqft            int64  \n",
      " 3   property_value  int64  \n",
      " 4   year_built      int64  \n",
      " 5   property_tax    float64\n",
      " 6   county          object \n",
      "dtypes: float64(2), int64(4), object(1)\n",
      "memory usage: 128.9+ MB\n"
     ]
    },
    {
     "data": {
      "text/plain": [
       "None"
      ]
     },
     "metadata": {},
     "output_type": "display_data"
    },
    {
     "data": {
      "text/plain": [
       "3    957656\n",
       "4    629247\n",
       "2    333026\n",
       "5    147172\n",
       "1     22544\n",
       "6     21753\n",
       "Name: bedrooms, dtype: int64"
      ]
     },
     "metadata": {},
     "output_type": "display_data"
    },
    {
     "name": "stdout",
     "output_type": "stream",
     "text": [
      "-----------------------------------\n"
     ]
    },
    {
     "data": {
      "text/plain": [
       "2.0    937850\n",
       "3.0    420099\n",
       "1.0    410489\n",
       "2.5    141040\n",
       "4.0     80687\n",
       "1.5     30266\n",
       "3.5     28193\n",
       "5.0     27420\n",
       "4.5     19271\n",
       "6.0     10019\n",
       "5.5      6064\n",
       "Name: bathrooms, dtype: int64"
      ]
     },
     "metadata": {},
     "output_type": "display_data"
    },
    {
     "name": "stdout",
     "output_type": "stream",
     "text": [
      "-----------------------------------\n"
     ]
    },
    {
     "data": {
      "text/plain": [
       "1200     5096\n",
       "1080     4327\n",
       "1120     4261\n",
       "1400     3817\n",
       "1440     3664\n",
       "         ... \n",
       "6775        1\n",
       "439         1\n",
       "6805        1\n",
       "8093        1\n",
       "10770       1\n",
       "Name: sqft, Length: 8155, dtype: int64"
      ]
     },
     "metadata": {},
     "output_type": "display_data"
    },
    {
     "name": "stdout",
     "output_type": "stream",
     "text": [
      "-----------------------------------\n"
     ]
    },
    {
     "data": {
      "text/plain": [
       "450000     800\n",
       "500000     760\n",
       "400000     710\n",
       "430000     678\n",
       "440000     664\n",
       "          ... \n",
       "1282584      1\n",
       "1179841      1\n",
       "222794       1\n",
       "85265        1\n",
       "536061       1\n",
       "Name: property_value, Length: 577850, dtype: int64"
      ]
     },
     "metadata": {},
     "output_type": "display_data"
    },
    {
     "name": "stdout",
     "output_type": "stream",
     "text": [
      "-----------------------------------\n"
     ]
    },
    {
     "data": {
      "text/plain": [
       "1955    83578\n",
       "1950    71255\n",
       "1954    68546\n",
       "1953    61899\n",
       "1956    61406\n",
       "        ...  \n",
       "1855        1\n",
       "1879        1\n",
       "1833        1\n",
       "1840        1\n",
       "1874        1\n",
       "Name: year_built, Length: 153, dtype: int64"
      ]
     },
     "metadata": {},
     "output_type": "display_data"
    },
    {
     "name": "stdout",
     "output_type": "stream",
     "text": [
      "-----------------------------------\n"
     ]
    },
    {
     "data": {
      "text/plain": [
       "345.72      170\n",
       "343.52       70\n",
       "344.18       61\n",
       "49.18        44\n",
       "388.18       37\n",
       "           ... \n",
       "12779.58      1\n",
       "9256.20       1\n",
       "581.74        1\n",
       "18962.26      1\n",
       "13494.52      1\n",
       "Name: property_tax, Length: 903593, dtype: int64"
      ]
     },
     "metadata": {},
     "output_type": "display_data"
    },
    {
     "name": "stdout",
     "output_type": "stream",
     "text": [
      "-----------------------------------\n"
     ]
    },
    {
     "data": {
      "text/plain": [
       "LA         1408711\n",
       "Orange      543096\n",
       "Ventura     159591\n",
       "Name: county, dtype: int64"
      ]
     },
     "metadata": {},
     "output_type": "display_data"
    },
    {
     "name": "stdout",
     "output_type": "stream",
     "text": [
      "-----------------------------------\n"
     ]
    }
   ],
   "source": [
    "display(df.info())\n",
    "for col in df.columns:\n",
    "    display(df[col].value_counts())\n",
    "    print('-'*35)"
   ]
  },
  {
   "cell_type": "markdown",
   "id": "39aca386",
   "metadata": {},
   "source": [
    "3. Store all of the necessary functions to automate your process from acquiring the data to returning a cleaned dataframe with no missing values in your wrangle.py file. Name your final function wrangle_zillow."
   ]
  },
  {
   "cell_type": "code",
   "execution_count": 52,
   "id": "e9fd02df",
   "metadata": {},
   "outputs": [],
   "source": [
    "def wrangle_zillow_data():\n",
    "    '''\n",
    "    Acquire zillow data from MySQL database\n",
    "    Prepare data by handling missing values and duplicates\n",
    "    Save wrangled data into a csv\n",
    "    '''\n",
    "    # acquire MySQL data\n",
    "    df = pd.read_sql('''SELECT bedroomcnt, bathroomcnt, calculatedfinishedsquarefeet,\n",
    "                            taxvaluedollarcnt, yearbuilt, taxamount, fips \n",
    "                        FROM properties_2017 as p\n",
    "                        WHERE p.propertylandusetypeid = 261;''',\n",
    "                       get_connection('zillow'))\n",
    "    \n",
    "    # rename columns\n",
    "    df.columns = ['bedrooms', 'bathrooms', 'sqft', 'property_value',\n",
    "                  'year_built', 'property_tax', 'county']\n",
    "    \n",
    "    # filtering data to have \"normal\" number of bedrooms and bathrooms\n",
    "    # 1 to 6 bedrooms\n",
    "    df = df[(df['bedrooms'] >= 1) & (df['bedrooms'] <= 6)]\n",
    "    # 1 to 6 bathrooms, not including 1.75\n",
    "    df = df[(df['bathrooms'] >= 1) & (df['bathrooms'] <= 6) \n",
    "            & (df['bathrooms'] != 1.75)]\n",
    "    \n",
    "    # handle missing values\n",
    "    df = df.dropna()\n",
    "    \n",
    "    # drop duplicates\n",
    "    df = df.drop_duplicates()\n",
    "    \n",
    "    # giving data appropriate types and values\n",
    "    df[['bedrooms', 'sqft', 'property_value', 'year_built']] = \\\n",
    "        df[['bedrooms', 'sqft', 'property_value', 'year_built']].astype(int)\n",
    "    # assigning county codes their respective names\n",
    "    df['county'] = df['county'].replace({6037: 'LA', 6059: 'Orange', 6111: 'Ventura'})\n",
    "    \n",
    "    # cache data\n",
    "    df.to_csv('data/zillow_data.csv')\n",
    "    \n",
    "    return df"
   ]
  }
 ],
 "metadata": {
  "kernelspec": {
   "display_name": "Python 3 (ipykernel)",
   "language": "python",
   "name": "python3"
  },
  "language_info": {
   "codemirror_mode": {
    "name": "ipython",
    "version": 3
   },
   "file_extension": ".py",
   "mimetype": "text/x-python",
   "name": "python",
   "nbconvert_exporter": "python",
   "pygments_lexer": "ipython3",
   "version": "3.10.9"
  },
  "varInspector": {
   "cols": {
    "lenName": 16,
    "lenType": 16,
    "lenVar": 40
   },
   "kernels_config": {
    "python": {
     "delete_cmd_postfix": "",
     "delete_cmd_prefix": "del ",
     "library": "var_list.py",
     "varRefreshCmd": "print(var_dic_list())"
    },
    "r": {
     "delete_cmd_postfix": ") ",
     "delete_cmd_prefix": "rm(",
     "library": "var_list.r",
     "varRefreshCmd": "cat(var_dic_list()) "
    }
   },
   "types_to_exclude": [
    "module",
    "function",
    "builtin_function_or_method",
    "instance",
    "_Feature"
   ],
   "window_display": false
  }
 },
 "nbformat": 4,
 "nbformat_minor": 5
}
